{
 "cells": [
  {
   "cell_type": "code",
   "execution_count": 65,
   "id": "f2bc785d",
   "metadata": {},
   "outputs": [],
   "source": [
    "import pandas as pd\n",
    "import numpy as np"
   ]
  },
  {
   "cell_type": "code",
   "execution_count": 66,
   "id": "c05da108",
   "metadata": {},
   "outputs": [],
   "source": [
    "df = pd.read_csv('healthcare.csv')"
   ]
  },
  {
   "cell_type": "code",
   "execution_count": 100,
   "id": "53fd4331",
   "metadata": {},
   "outputs": [],
   "source": [
    "X = df.drop(columns=['Id', 'Outcome'])\n",
    "y = df['Outcome'].head(5)"
   ]
  },
  {
   "cell_type": "code",
   "execution_count": 101,
   "id": "69845e66",
   "metadata": {},
   "outputs": [
    {
     "name": "stdout",
     "output_type": "stream",
     "text": [
      "0    1\n",
      "1    0\n",
      "2    1\n",
      "3    0\n",
      "4    1\n",
      "Name: Outcome, dtype: int64\n"
     ]
    }
   ],
   "source": [
    "X1 = X.head(5)\n",
    "print(y)"
   ]
  },
  {
   "cell_type": "code",
   "execution_count": 102,
   "id": "2133e85e",
   "metadata": {},
   "outputs": [
    {
     "data": {
      "text/html": [
       "<div>\n",
       "<style scoped>\n",
       "    .dataframe tbody tr th:only-of-type {\n",
       "        vertical-align: middle;\n",
       "    }\n",
       "\n",
       "    .dataframe tbody tr th {\n",
       "        vertical-align: top;\n",
       "    }\n",
       "\n",
       "    .dataframe thead th {\n",
       "        text-align: right;\n",
       "    }\n",
       "</style>\n",
       "<table border=\"1\" class=\"dataframe\">\n",
       "  <thead>\n",
       "    <tr style=\"text-align: right;\">\n",
       "      <th></th>\n",
       "      <th>Pregnancies</th>\n",
       "      <th>Glucose</th>\n",
       "      <th>BloodPressure</th>\n",
       "      <th>SkinThickness</th>\n",
       "      <th>Insulin</th>\n",
       "      <th>BMI</th>\n",
       "      <th>DiabetesPedigreeFunction</th>\n",
       "      <th>Age</th>\n",
       "    </tr>\n",
       "  </thead>\n",
       "  <tbody>\n",
       "    <tr>\n",
       "      <th>0</th>\n",
       "      <td>6</td>\n",
       "      <td>148</td>\n",
       "      <td>72</td>\n",
       "      <td>35</td>\n",
       "      <td>0</td>\n",
       "      <td>33.6</td>\n",
       "      <td>0.627</td>\n",
       "      <td>50</td>\n",
       "    </tr>\n",
       "    <tr>\n",
       "      <th>1</th>\n",
       "      <td>1</td>\n",
       "      <td>85</td>\n",
       "      <td>66</td>\n",
       "      <td>29</td>\n",
       "      <td>0</td>\n",
       "      <td>26.6</td>\n",
       "      <td>0.351</td>\n",
       "      <td>31</td>\n",
       "    </tr>\n",
       "    <tr>\n",
       "      <th>2</th>\n",
       "      <td>8</td>\n",
       "      <td>183</td>\n",
       "      <td>64</td>\n",
       "      <td>0</td>\n",
       "      <td>0</td>\n",
       "      <td>23.3</td>\n",
       "      <td>0.672</td>\n",
       "      <td>32</td>\n",
       "    </tr>\n",
       "    <tr>\n",
       "      <th>3</th>\n",
       "      <td>1</td>\n",
       "      <td>89</td>\n",
       "      <td>66</td>\n",
       "      <td>23</td>\n",
       "      <td>94</td>\n",
       "      <td>28.1</td>\n",
       "      <td>0.167</td>\n",
       "      <td>21</td>\n",
       "    </tr>\n",
       "    <tr>\n",
       "      <th>4</th>\n",
       "      <td>0</td>\n",
       "      <td>137</td>\n",
       "      <td>40</td>\n",
       "      <td>35</td>\n",
       "      <td>168</td>\n",
       "      <td>43.1</td>\n",
       "      <td>2.288</td>\n",
       "      <td>33</td>\n",
       "    </tr>\n",
       "  </tbody>\n",
       "</table>\n",
       "</div>"
      ],
      "text/plain": [
       "   Pregnancies  Glucose  BloodPressure  SkinThickness  Insulin   BMI  \\\n",
       "0            6      148             72             35        0  33.6   \n",
       "1            1       85             66             29        0  26.6   \n",
       "2            8      183             64              0        0  23.3   \n",
       "3            1       89             66             23       94  28.1   \n",
       "4            0      137             40             35      168  43.1   \n",
       "\n",
       "   DiabetesPedigreeFunction  Age  \n",
       "0                     0.627   50  \n",
       "1                     0.351   31  \n",
       "2                     0.672   32  \n",
       "3                     0.167   21  \n",
       "4                     2.288   33  "
      ]
     },
     "execution_count": 102,
     "metadata": {},
     "output_type": "execute_result"
    }
   ],
   "source": [
    "X1"
   ]
  },
  {
   "cell_type": "code",
   "execution_count": 103,
   "id": "dccef86c",
   "metadata": {},
   "outputs": [],
   "source": [
    "X1 = X1.to_numpy()"
   ]
  },
  {
   "cell_type": "code",
   "execution_count": 104,
   "id": "cc5d5d9f",
   "metadata": {},
   "outputs": [
    {
     "data": {
      "text/plain": [
       "array([[6.000e+00, 1.480e+02, 7.200e+01, 3.500e+01, 0.000e+00, 3.360e+01,\n",
       "        6.270e-01, 5.000e+01],\n",
       "       [1.000e+00, 8.500e+01, 6.600e+01, 2.900e+01, 0.000e+00, 2.660e+01,\n",
       "        3.510e-01, 3.100e+01],\n",
       "       [8.000e+00, 1.830e+02, 6.400e+01, 0.000e+00, 0.000e+00, 2.330e+01,\n",
       "        6.720e-01, 3.200e+01],\n",
       "       [1.000e+00, 8.900e+01, 6.600e+01, 2.300e+01, 9.400e+01, 2.810e+01,\n",
       "        1.670e-01, 2.100e+01],\n",
       "       [0.000e+00, 1.370e+02, 4.000e+01, 3.500e+01, 1.680e+02, 4.310e+01,\n",
       "        2.288e+00, 3.300e+01]])"
      ]
     },
     "execution_count": 104,
     "metadata": {},
     "output_type": "execute_result"
    }
   ],
   "source": [
    "X1"
   ]
  },
  {
   "cell_type": "code",
   "execution_count": 105,
   "id": "ec891757",
   "metadata": {},
   "outputs": [],
   "source": [
    "feature_names = X.loc[:, :].columns.tolist()"
   ]
  },
  {
   "cell_type": "code",
   "execution_count": 123,
   "id": "684d6b67",
   "metadata": {},
   "outputs": [],
   "source": [
    "def cal_entropy(node_indices):\n",
    "        # calculate cross_entropy for that node\n",
    "        entropy = 0\n",
    "        if (len(node_indices) != 0):\n",
    "            outs = y[node_indices] # filter indices \n",
    "            p_1 = len(outs[outs==1]) / len(node_indices) # calculating the probability that y=1\n",
    "            if (p_1 == 1) or (p_1 == 0):\n",
    "                entropy = 0\n",
    "            else:\n",
    "                entropy = -p_1*np.log2(p_1)-(1-p_1)*np.log2(1-p_1)\n",
    "        return entropy"
   ]
  },
  {
   "cell_type": "code",
   "execution_count": 124,
   "id": "18ba6c75",
   "metadata": {},
   "outputs": [],
   "source": [
    "def compute_gain(left_indices, right_indices, num_examples, all_indices):\n",
    "    w_left = len(left_indices) / num_examples\n",
    "    w_right = len(right_indices) / num_examples\n",
    "    \n",
    "    left = w_left * cal_entropy(left_indices)\n",
    "    right = w_right * cal_entropy(right_indices)\n",
    "    \n",
    "    gain = cal_entropy(all_indices) - (left + right)\n",
    "    \n",
    "    return gain\n",
    "    \n",
    "    \n",
    "    \n",
    "    \n",
    "    \n",
    "    "
   ]
  },
  {
   "cell_type": "code",
   "execution_count": 147,
   "id": "11b8de03",
   "metadata": {},
   "outputs": [
    {
     "name": "stdout",
     "output_type": "stream",
     "text": [
      "0.9709505944546686\n",
      "89.0\n",
      "Glucose\n"
     ]
    }
   ],
   "source": [
    "best_gain = 0\n",
    "best_thresh = 0\n",
    "best_feature = \"\"\n",
    "\n",
    "for i, feature in enumerate(feature_names):\n",
    "    vals = X1[:, i]\n",
    "    all_indices = np.arange(X1.shape[0])\n",
    "    total = np.unique(X1[:, i])\n",
    "    for i, threshold in enumerate(total):\n",
    "        curr_gain = 0\n",
    "        curr_thresh = threshold\n",
    "        left_indices = np.where(vals <= threshold)[0]\n",
    "        right_indices = np.where(vals > threshold)[0]\n",
    "        curr_gain = compute_gain(left_indices, right_indices, len(vals), all_indices)\n",
    "        if (curr_gain > best_gain):\n",
    "            best_gain = curr_gain\n",
    "            best_thresh = curr_thresh\n",
    "            best_feature = feature\n",
    "                \n",
    "\n",
    "print(best_gain)\n",
    "print(best_thresh)\n",
    "print(best_feature)"
   ]
  },
  {
   "cell_type": "code",
   "execution_count": 140,
   "id": "3a57c109",
   "metadata": {},
   "outputs": [
    {
     "name": "stdout",
     "output_type": "stream",
     "text": [
      "[0 1 2 3 4]\n"
     ]
    }
   ],
   "source": [
    "all_indices = np.arange(X1.shape[0])\n",
    "print(all_indices)"
   ]
  },
  {
   "cell_type": "code",
   "execution_count": 141,
   "id": "798995e6",
   "metadata": {},
   "outputs": [
    {
     "data": {
      "text/plain": [
       "0.9709505944546686"
      ]
     },
     "execution_count": 141,
     "metadata": {},
     "output_type": "execute_result"
    }
   ],
   "source": [
    "cal_entropy(all_indices)"
   ]
  },
  {
   "cell_type": "code",
   "execution_count": null,
   "id": "faffeee5",
   "metadata": {},
   "outputs": [],
   "source": []
  }
 ],
 "metadata": {
  "kernelspec": {
   "display_name": "ml_venv",
   "language": "python",
   "name": "ml_venv"
  },
  "language_info": {
   "codemirror_mode": {
    "name": "ipython",
    "version": 3
   },
   "file_extension": ".py",
   "mimetype": "text/x-python",
   "name": "python",
   "nbconvert_exporter": "python",
   "pygments_lexer": "ipython3",
   "version": "3.11.4"
  }
 },
 "nbformat": 4,
 "nbformat_minor": 5
}
