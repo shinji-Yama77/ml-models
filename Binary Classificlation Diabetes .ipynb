{
 "cells": [
  {
   "cell_type": "code",
   "execution_count": 241,
   "id": "10df2655",
   "metadata": {},
   "outputs": [],
   "source": [
    "import pandas as pd\n",
    "import numpy as np\n",
    "from sklearn.model_selection import train_test_split\n",
    "from sklearn.preprocessing import StandardScaler\n",
    "import matplotlib.pyplot as plt "
   ]
  },
  {
   "cell_type": "code",
   "execution_count": 242,
   "id": "58be42c6",
   "metadata": {},
   "outputs": [
    {
     "name": "stdout",
     "output_type": "stream",
     "text": [
      "2.1.0\n"
     ]
    }
   ],
   "source": [
    "print(pd.__version__)\n",
    "\n",
    "# checking to make sure our virtual environment is running correctly "
   ]
  },
  {
   "cell_type": "code",
   "execution_count": 243,
   "id": "ca06966e",
   "metadata": {},
   "outputs": [],
   "source": [
    "df = pd.read_csv('healthcare.csv')"
   ]
  },
  {
   "cell_type": "code",
   "execution_count": 244,
   "id": "fbc1f197",
   "metadata": {},
   "outputs": [
    {
     "data": {
      "text/html": [
       "<div>\n",
       "<style scoped>\n",
       "    .dataframe tbody tr th:only-of-type {\n",
       "        vertical-align: middle;\n",
       "    }\n",
       "\n",
       "    .dataframe tbody tr th {\n",
       "        vertical-align: top;\n",
       "    }\n",
       "\n",
       "    .dataframe thead th {\n",
       "        text-align: right;\n",
       "    }\n",
       "</style>\n",
       "<table border=\"1\" class=\"dataframe\">\n",
       "  <thead>\n",
       "    <tr style=\"text-align: right;\">\n",
       "      <th></th>\n",
       "      <th>Id</th>\n",
       "      <th>Pregnancies</th>\n",
       "      <th>Glucose</th>\n",
       "      <th>BloodPressure</th>\n",
       "      <th>SkinThickness</th>\n",
       "      <th>Insulin</th>\n",
       "      <th>BMI</th>\n",
       "      <th>DiabetesPedigreeFunction</th>\n",
       "      <th>Age</th>\n",
       "      <th>Outcome</th>\n",
       "    </tr>\n",
       "  </thead>\n",
       "  <tbody>\n",
       "    <tr>\n",
       "      <th>0</th>\n",
       "      <td>1</td>\n",
       "      <td>6</td>\n",
       "      <td>148</td>\n",
       "      <td>72</td>\n",
       "      <td>35</td>\n",
       "      <td>0</td>\n",
       "      <td>33.6</td>\n",
       "      <td>0.627</td>\n",
       "      <td>50</td>\n",
       "      <td>1</td>\n",
       "    </tr>\n",
       "    <tr>\n",
       "      <th>1</th>\n",
       "      <td>2</td>\n",
       "      <td>1</td>\n",
       "      <td>85</td>\n",
       "      <td>66</td>\n",
       "      <td>29</td>\n",
       "      <td>0</td>\n",
       "      <td>26.6</td>\n",
       "      <td>0.351</td>\n",
       "      <td>31</td>\n",
       "      <td>0</td>\n",
       "    </tr>\n",
       "    <tr>\n",
       "      <th>2</th>\n",
       "      <td>3</td>\n",
       "      <td>8</td>\n",
       "      <td>183</td>\n",
       "      <td>64</td>\n",
       "      <td>0</td>\n",
       "      <td>0</td>\n",
       "      <td>23.3</td>\n",
       "      <td>0.672</td>\n",
       "      <td>32</td>\n",
       "      <td>1</td>\n",
       "    </tr>\n",
       "    <tr>\n",
       "      <th>3</th>\n",
       "      <td>4</td>\n",
       "      <td>1</td>\n",
       "      <td>89</td>\n",
       "      <td>66</td>\n",
       "      <td>23</td>\n",
       "      <td>94</td>\n",
       "      <td>28.1</td>\n",
       "      <td>0.167</td>\n",
       "      <td>21</td>\n",
       "      <td>0</td>\n",
       "    </tr>\n",
       "    <tr>\n",
       "      <th>4</th>\n",
       "      <td>5</td>\n",
       "      <td>0</td>\n",
       "      <td>137</td>\n",
       "      <td>40</td>\n",
       "      <td>35</td>\n",
       "      <td>168</td>\n",
       "      <td>43.1</td>\n",
       "      <td>2.288</td>\n",
       "      <td>33</td>\n",
       "      <td>1</td>\n",
       "    </tr>\n",
       "    <tr>\n",
       "      <th>5</th>\n",
       "      <td>6</td>\n",
       "      <td>5</td>\n",
       "      <td>116</td>\n",
       "      <td>74</td>\n",
       "      <td>0</td>\n",
       "      <td>0</td>\n",
       "      <td>25.6</td>\n",
       "      <td>0.201</td>\n",
       "      <td>30</td>\n",
       "      <td>0</td>\n",
       "    </tr>\n",
       "    <tr>\n",
       "      <th>6</th>\n",
       "      <td>7</td>\n",
       "      <td>3</td>\n",
       "      <td>78</td>\n",
       "      <td>50</td>\n",
       "      <td>32</td>\n",
       "      <td>88</td>\n",
       "      <td>31.0</td>\n",
       "      <td>0.248</td>\n",
       "      <td>26</td>\n",
       "      <td>1</td>\n",
       "    </tr>\n",
       "    <tr>\n",
       "      <th>7</th>\n",
       "      <td>8</td>\n",
       "      <td>10</td>\n",
       "      <td>115</td>\n",
       "      <td>0</td>\n",
       "      <td>0</td>\n",
       "      <td>0</td>\n",
       "      <td>35.3</td>\n",
       "      <td>0.134</td>\n",
       "      <td>29</td>\n",
       "      <td>0</td>\n",
       "    </tr>\n",
       "    <tr>\n",
       "      <th>8</th>\n",
       "      <td>9</td>\n",
       "      <td>2</td>\n",
       "      <td>197</td>\n",
       "      <td>70</td>\n",
       "      <td>45</td>\n",
       "      <td>543</td>\n",
       "      <td>30.5</td>\n",
       "      <td>0.158</td>\n",
       "      <td>53</td>\n",
       "      <td>1</td>\n",
       "    </tr>\n",
       "    <tr>\n",
       "      <th>9</th>\n",
       "      <td>10</td>\n",
       "      <td>8</td>\n",
       "      <td>125</td>\n",
       "      <td>96</td>\n",
       "      <td>0</td>\n",
       "      <td>0</td>\n",
       "      <td>0.0</td>\n",
       "      <td>0.232</td>\n",
       "      <td>54</td>\n",
       "      <td>1</td>\n",
       "    </tr>\n",
       "  </tbody>\n",
       "</table>\n",
       "</div>"
      ],
      "text/plain": [
       "   Id  Pregnancies  Glucose  BloodPressure  SkinThickness  Insulin   BMI  \\\n",
       "0   1            6      148             72             35        0  33.6   \n",
       "1   2            1       85             66             29        0  26.6   \n",
       "2   3            8      183             64              0        0  23.3   \n",
       "3   4            1       89             66             23       94  28.1   \n",
       "4   5            0      137             40             35      168  43.1   \n",
       "5   6            5      116             74              0        0  25.6   \n",
       "6   7            3       78             50             32       88  31.0   \n",
       "7   8           10      115              0              0        0  35.3   \n",
       "8   9            2      197             70             45      543  30.5   \n",
       "9  10            8      125             96              0        0   0.0   \n",
       "\n",
       "   DiabetesPedigreeFunction  Age  Outcome  \n",
       "0                     0.627   50        1  \n",
       "1                     0.351   31        0  \n",
       "2                     0.672   32        1  \n",
       "3                     0.167   21        0  \n",
       "4                     2.288   33        1  \n",
       "5                     0.201   30        0  \n",
       "6                     0.248   26        1  \n",
       "7                     0.134   29        0  \n",
       "8                     0.158   53        1  \n",
       "9                     0.232   54        1  "
      ]
     },
     "execution_count": 244,
     "metadata": {},
     "output_type": "execute_result"
    }
   ],
   "source": [
    "df.head(10)"
   ]
  },
  {
   "cell_type": "code",
   "execution_count": 245,
   "id": "4fa1fb86",
   "metadata": {},
   "outputs": [
    {
     "data": {
      "text/plain": [
       "Id                          0\n",
       "Pregnancies                 0\n",
       "Glucose                     0\n",
       "BloodPressure               0\n",
       "SkinThickness               0\n",
       "Insulin                     0\n",
       "BMI                         0\n",
       "DiabetesPedigreeFunction    0\n",
       "Age                         0\n",
       "Outcome                     0\n",
       "dtype: int64"
      ]
     },
     "execution_count": 245,
     "metadata": {},
     "output_type": "execute_result"
    }
   ],
   "source": [
    "df.isna().sum()\n",
    "\n",
    "# data seems pretty good to use"
   ]
  },
  {
   "cell_type": "code",
   "execution_count": 246,
   "id": "448fcbe7",
   "metadata": {},
   "outputs": [],
   "source": [
    "X = df.drop(columns=['Id', 'Outcome'])"
   ]
  },
  {
   "cell_type": "code",
   "execution_count": 247,
   "id": "2c46bb51",
   "metadata": {},
   "outputs": [
    {
     "data": {
      "text/html": [
       "<div>\n",
       "<style scoped>\n",
       "    .dataframe tbody tr th:only-of-type {\n",
       "        vertical-align: middle;\n",
       "    }\n",
       "\n",
       "    .dataframe tbody tr th {\n",
       "        vertical-align: top;\n",
       "    }\n",
       "\n",
       "    .dataframe thead th {\n",
       "        text-align: right;\n",
       "    }\n",
       "</style>\n",
       "<table border=\"1\" class=\"dataframe\">\n",
       "  <thead>\n",
       "    <tr style=\"text-align: right;\">\n",
       "      <th></th>\n",
       "      <th>Pregnancies</th>\n",
       "      <th>Glucose</th>\n",
       "      <th>BloodPressure</th>\n",
       "      <th>SkinThickness</th>\n",
       "      <th>Insulin</th>\n",
       "      <th>BMI</th>\n",
       "      <th>DiabetesPedigreeFunction</th>\n",
       "      <th>Age</th>\n",
       "    </tr>\n",
       "  </thead>\n",
       "  <tbody>\n",
       "    <tr>\n",
       "      <th>0</th>\n",
       "      <td>6</td>\n",
       "      <td>148</td>\n",
       "      <td>72</td>\n",
       "      <td>35</td>\n",
       "      <td>0</td>\n",
       "      <td>33.6</td>\n",
       "      <td>0.627</td>\n",
       "      <td>50</td>\n",
       "    </tr>\n",
       "    <tr>\n",
       "      <th>1</th>\n",
       "      <td>1</td>\n",
       "      <td>85</td>\n",
       "      <td>66</td>\n",
       "      <td>29</td>\n",
       "      <td>0</td>\n",
       "      <td>26.6</td>\n",
       "      <td>0.351</td>\n",
       "      <td>31</td>\n",
       "    </tr>\n",
       "    <tr>\n",
       "      <th>2</th>\n",
       "      <td>8</td>\n",
       "      <td>183</td>\n",
       "      <td>64</td>\n",
       "      <td>0</td>\n",
       "      <td>0</td>\n",
       "      <td>23.3</td>\n",
       "      <td>0.672</td>\n",
       "      <td>32</td>\n",
       "    </tr>\n",
       "    <tr>\n",
       "      <th>3</th>\n",
       "      <td>1</td>\n",
       "      <td>89</td>\n",
       "      <td>66</td>\n",
       "      <td>23</td>\n",
       "      <td>94</td>\n",
       "      <td>28.1</td>\n",
       "      <td>0.167</td>\n",
       "      <td>21</td>\n",
       "    </tr>\n",
       "    <tr>\n",
       "      <th>4</th>\n",
       "      <td>0</td>\n",
       "      <td>137</td>\n",
       "      <td>40</td>\n",
       "      <td>35</td>\n",
       "      <td>168</td>\n",
       "      <td>43.1</td>\n",
       "      <td>2.288</td>\n",
       "      <td>33</td>\n",
       "    </tr>\n",
       "  </tbody>\n",
       "</table>\n",
       "</div>"
      ],
      "text/plain": [
       "   Pregnancies  Glucose  BloodPressure  SkinThickness  Insulin   BMI  \\\n",
       "0            6      148             72             35        0  33.6   \n",
       "1            1       85             66             29        0  26.6   \n",
       "2            8      183             64              0        0  23.3   \n",
       "3            1       89             66             23       94  28.1   \n",
       "4            0      137             40             35      168  43.1   \n",
       "\n",
       "   DiabetesPedigreeFunction  Age  \n",
       "0                     0.627   50  \n",
       "1                     0.351   31  \n",
       "2                     0.672   32  \n",
       "3                     0.167   21  \n",
       "4                     2.288   33  "
      ]
     },
     "execution_count": 247,
     "metadata": {},
     "output_type": "execute_result"
    }
   ],
   "source": [
    "X.head(5)"
   ]
  },
  {
   "cell_type": "code",
   "execution_count": 248,
   "id": "4e5d25fb",
   "metadata": {},
   "outputs": [
    {
     "data": {
      "text/plain": [
       "0    1\n",
       "1    0\n",
       "2    1\n",
       "3    0\n",
       "4    1\n",
       "Name: Outcome, dtype: int64"
      ]
     },
     "execution_count": 248,
     "metadata": {},
     "output_type": "execute_result"
    }
   ],
   "source": [
    "y = df['Outcome']\n",
    "y.head(5)"
   ]
  },
  {
   "cell_type": "code",
   "execution_count": 249,
   "id": "60661f96",
   "metadata": {},
   "outputs": [],
   "source": [
    "# perform a training test split \n",
    "X_train, X_test, y_train, y_test = train_test_split(X,y)\n"
   ]
  },
  {
   "cell_type": "code",
   "execution_count": 250,
   "id": "a00d411e",
   "metadata": {},
   "outputs": [
    {
     "name": "stdout",
     "output_type": "stream",
     "text": [
      "(692,)\n",
      "(2076, 8)\n",
      "2768\n",
      "8\n"
     ]
    }
   ],
   "source": [
    "print(y_test.shape)\n",
    "print(X_train.shape)\n",
    "\n",
    "c, b = X.shape\n",
    "print(c)\n",
    "print(b)"
   ]
  },
  {
   "cell_type": "markdown",
   "id": "481c907e",
   "metadata": {},
   "source": [
    "#### Sigmoid Function\n",
    "In this function, we are first coding the sigmoid function so once we compute our z value which consists of a dot product of our input features and weight parameters and bias. This computes a value between 0 and 1 which is necessary for binary logistic classification"
   ]
  },
  {
   "cell_type": "code",
   "execution_count": 251,
   "id": "ea8275a6",
   "metadata": {},
   "outputs": [],
   "source": [
    "# create the sigmoid activation function for logistic regression (return output of 0 or 1)\n",
    "\n",
    "def sigmoid(x):\n",
    "    \n",
    "    g = 1 / (1 + np.exp(-x))\n",
    "    \n",
    "    \n",
    "    return g\n",
    "\n"
   ]
  },
  {
   "cell_type": "code",
   "execution_count": 252,
   "id": "c8c3a58a",
   "metadata": {},
   "outputs": [
    {
     "name": "stdout",
     "output_type": "stream",
     "text": [
      "0.5\n"
     ]
    }
   ],
   "source": [
    "print(sigmoid(0))"
   ]
  },
  {
   "cell_type": "markdown",
   "id": "caf50644",
   "metadata": {},
   "source": [
    "#### Cost Function\n",
    "\n",
    "We code the cost function which in this case is the binarycross entropy cost function which is different from MSE which we use for linear regression. We compute the cost function, so we know that it is decreasing after each iteration"
   ]
  },
  {
   "cell_type": "code",
   "execution_count": 253,
   "id": "6404a935",
   "metadata": {},
   "outputs": [],
   "source": [
    "def cost_one(actual, out):\n",
    "    cost = actual*np.log(out)+(1-actual)*np.log(1-out)\n",
    "    \n",
    "    return cost"
   ]
  },
  {
   "cell_type": "code",
   "execution_count": 254,
   "id": "d1f55797",
   "metadata": {},
   "outputs": [],
   "source": [
    "# implement gradient descent one iteration\n",
    "\n",
    "\n",
    "def gradient_descent(X, y, w, b, sig, cost_one):\n",
    "    \n",
    "    m, n = X.shape\n",
    "    dj_dw = np.zeros(n)\n",
    "    dj_db = 0\n",
    "    total_cost = 0\n",
    "    \n",
    "    for i in range(m):\n",
    "        out = np.dot(X[i], w) + b\n",
    "        apply_sig = sig(out) - y[i]\n",
    "        total_cost += cost_one(y[i], sig(out))\n",
    "        for j in range(n):\n",
    "            dj_dw[j] += apply_sig * X[i][j] # access two dimensional arrays\n",
    "        dj_db += apply_sig\n",
    "        \n",
    "        \n",
    "    dj_dw = dj_dw / m\n",
    "    dj_db = dj_db / m\n",
    "    total_cost = total_cost / -m\n",
    "            \n",
    "    return dj_dw, dj_db, total_cost # return the partial derivatives of both \n",
    "\n",
    "    \n",
    "        \n",
    "    \n",
    "    \n"
   ]
  },
  {
   "cell_type": "code",
   "execution_count": 255,
   "id": "51458d1a",
   "metadata": {},
   "outputs": [],
   "source": [
    "# run multiple iterations\n",
    "            \n",
    "            \n",
    "w = np.zeros(X.shape[1])\n",
    "b = 0\n",
    "total_cost = 0\n",
    "\n",
    "\n",
    "X_train = X_train.to_numpy()\n",
    "y_train = y_train.to_numpy()\n",
    "  \n",
    "    \n",
    "\n",
    "def full_gradient(X, y, w_in, b_in, grad_desc, sig, lr, epochs, cost_one):\n",
    "    \n",
    "    costs = []\n",
    "    \n",
    "    for i in range(epochs):\n",
    "        dj_dw, dj_db, curr_cost = grad_desc(X, y, w_in, b_in, sig, cost_one)\n",
    "        w_in = w_in - lr * dj_dw\n",
    "        b_in = b_in - lr * dj_db\n",
    "        if (i % 10 == 0):\n",
    "            costs.append(curr_cost)\n",
    "        \n",
    "    return w_in, b_in, costs # return final parameters after running gradient descent multiple times\n",
    "\n",
    "    \n"
   ]
  },
  {
   "cell_type": "code",
   "execution_count": 256,
   "id": "d007f37b",
   "metadata": {},
   "outputs": [
    {
     "name": "stderr",
     "output_type": "stream",
     "text": [
      "/var/folders/4k/v82rk11s3q19pdylvw_t8zg40000gn/T/ipykernel_79993/2432688397.py:2: RuntimeWarning: divide by zero encountered in log\n",
      "  cost = actual*np.log(out)+(1-actual)*np.log(1-out)\n",
      "/var/folders/4k/v82rk11s3q19pdylvw_t8zg40000gn/T/ipykernel_79993/2432688397.py:2: RuntimeWarning: invalid value encountered in scalar multiply\n",
      "  cost = actual*np.log(out)+(1-actual)*np.log(1-out)\n"
     ]
    }
   ],
   "source": [
    "final_w, final_b, costs = full_gradient(X_train, y_train, w, b, gradient_descent, sigmoid, 0.001, 1000, cost_one)"
   ]
  },
  {
   "cell_type": "code",
   "execution_count": 257,
   "id": "365af848",
   "metadata": {},
   "outputs": [
    {
     "name": "stdout",
     "output_type": "stream",
     "text": [
      "[ 1.42778697  0.39182836 -0.60238561 -0.01565123  0.1569647   0.16645775\n",
      "  0.05351535  0.05478235]\n",
      "-0.346196956562445\n",
      "[0.6931471805599105, 55.920283248098016, nan, nan, nan, 47.42656968463545, nan, nan, 13.718312060351645, 50.1003246458795, 44.10562158647382, 37.01018648755356, nan, nan, 35.93482038441522, nan, 47.78644782397676, 35.98089766017745, 48.846256713399384, nan, nan, 46.62940678364199, nan, nan, 40.81355609881105, 39.05868901525913, nan, nan, nan, 48.572948422847816, nan, nan, 41.64848218736075, 47.85678951835546, 40.95658301844816, 21.05447380497796, nan, nan, 48.01038816822448, 39.64996236709691, nan, 46.58447024601584, nan, nan, 30.435750387030367, nan, 24.531665864774357, nan, nan, nan, 34.419565622781256, 48.922242507724214, nan, nan, nan, nan, nan, nan, nan, nan, nan, nan, nan, nan, nan, nan, nan, 39.77272899598403, nan, nan, nan, 35.82666951972879, nan, nan, nan, nan, nan, 32.266559677049734, nan, nan, 38.4097001595307, nan, 37.55569199666892, nan, nan, nan, nan, 29.947384245859183, nan, nan, 30.776411624946086, 50.271361321730524, nan, nan, nan, nan, nan, 34.690831070370436, nan, nan]\n"
     ]
    }
   ],
   "source": [
    "print(final_w)\n",
    "print(final_b)\n",
    "print(costs)"
   ]
  },
  {
   "cell_type": "markdown",
   "id": "532b72cc",
   "metadata": {},
   "source": [
    "#### cost function analysis\n",
    "\n",
    "It seems to be oscillating, maybe we can try feature scaling?"
   ]
  },
  {
   "cell_type": "code",
   "execution_count": 259,
   "id": "6e82ed1e",
   "metadata": {},
   "outputs": [
    {
     "data": {
      "text/plain": [
       "[<matplotlib.lines.Line2D at 0x139f846d0>]"
      ]
     },
     "execution_count": 259,
     "metadata": {},
     "output_type": "execute_result"
    },
    {
     "data": {
      "image/png": "[encoded data removed]",
      "text/plain": [
       "<Figure size 640x480 with 1 Axes>"
      ]
     },
     "metadata": {},
     "output_type": "display_data"
    }
   ],
   "source": [
    "plt.plot(list(range(100)), costs)"
   ]
  },
  {
   "cell_type": "markdown",
   "id": "9bacc176",
   "metadata": {},
   "source": [
    "#### importance of feature scaling\n",
    "\n",
    "Here we apply the standard scale which standardizes our data. This means that our mean is centered around zero and "
   ]
  },
  {
   "cell_type": "code",
   "execution_count": 260,
   "id": "182c0958",
   "metadata": {},
   "outputs": [],
   "source": [
    "scaler = StandardScaler()\n",
    "X_train_standardized = scaler.fit_transform(X_train)\n",
    "\n",
    "\n",
    "final_w, final_b, costs_1 = full_gradient(X_train_standardized, y_train, w, b, gradient_descent, sigmoid, 0.01, 1000, cost_one)\n"
   ]
  },
  {
   "cell_type": "code",
   "execution_count": 261,
   "id": "b3d38034",
   "metadata": {},
   "outputs": [
    {
     "data": {
      "text/plain": [
       "[<matplotlib.lines.Line2D at 0x139fb4590>]"
      ]
     },
     "execution_count": 261,
     "metadata": {},
     "output_type": "execute_result"
    },
    {
     "data": {
      "image/png": "[encoded data removed]",
      "text/plain": [
       "<Figure size 640x480 with 1 Axes>"
      ]
     },
     "metadata": {},
     "output_type": "display_data"
    }
   ],
   "source": [
    "plt.plot(list(range(100)), costs_1)"
   ]
  },
  {
   "cell_type": "code",
   "execution_count": 262,
   "id": "24abb081",
   "metadata": {},
   "outputs": [
    {
     "name": "stdout",
     "output_type": "stream",
     "text": [
      "[0.6931471805599105, 0.6813824176773847, 0.6705148889528552, 0.6604666888768811, 0.651165841636192, 0.6425462689961566, 0.6345476116681767, 0.6271149497926288, 0.6201984602429724, 0.6137530403123329, 0.6077379198679492, 0.6021162776887699, 0.59685487256385, 0.5919236957649701, 0.5872956485637316, 0.5829462463574475, 0.5788533495185229, 0.5749969201296025, 0.5713588031794774, 0.5679225304681847, 0.5646731453242825, 0.5615970462131534, 0.5586818473696176, 0.555916254689938, 0.5532899552463241, 0.5507935189267751, 0.54841831084463, 0.5461564132998684, 0.5440005562039985, 0.5419440550005614, 0.5399807552228412, 0.5381049829294113, 0.5363115003467549, 0.5345954661271494, 0.5329523997000228, 0.531378149256827, 0.5298688629640557, 0.5284209630469819, 0.5270311224288806, 0.5256962436476188, 0.5244134398039176, 0.5231800173242528, 0.5219934603463399, 0.520851416557262, 0.5197516843335174, 0.518692201049406, 0.5176710324350137, 0.5166863628783067, 0.5157364865773877, 0.5148197994592829, 0.5139347917905402, 0.5130800414130606, 0.5122542075454976, 0.5114560250969082, 0.5106842994448814, 0.5099379016351852, 0.5092157639645432, 0.5085168759117923, 0.5078402803863634, 0.5071850702659579, 0.5065503851980973, 0.5059354086427132, 0.5053393651350718, 0.5047615177503557, 0.5042011657529968, 0.5036576424153232, 0.5031303129916809, 0.5026185728353159, 0.5021218456465185, 0.5016395818415728, 0.5011712570329423, 0.5007163706120271, 0.5002744444265078, 0.4998450215450741, 0.49942766510285697, 0.49902195722154025, 0.49862749799857464, 0.4982439045603914, 0.4978708101749702, 0.4975078634194481, 0.49715472739884603, 0.49681107901228316, 0.49647660826331935, 0.49615101761141495, 0.49583402136161414, 0.49552534508985874, 0.49522472510156135, 0.4949319079211473, 0.49464664981056045, 0.4943687163148026, 0.49409788183274256, 0.49383392921159097, 0.49357664936348167, 0.49332584090280346, 0.49308130980294707, 0.4928428690712746, 0.4926103384411754, 0.4923835440801713, 0.49216231831309276, 0.4919464993594266]\n"
     ]
    }
   ],
   "source": [
    "print(costs_1)"
   ]
  },
  {
   "cell_type": "code",
   "execution_count": null,
   "id": "52757cbe",
   "metadata": {},
   "outputs": [],
   "source": [
    "# creating our predictions"
   ]
  },
  {
   "cell_type": "code",
   "execution_count": 264,
   "id": "69c5d511",
   "metadata": {},
   "outputs": [],
   "source": [
    "# our accuracy"
   ]
  },
  {
   "cell_type": "code",
   "execution_count": null,
   "id": "001083a2",
   "metadata": {},
   "outputs": [],
   "source": [
    "# improving performance?"
   ]
  },
  {
   "cell_type": "code",
   "execution_count": 263,
   "id": "482f21b3",
   "metadata": {},
   "outputs": [],
   "source": [
    "# testing our model"
   ]
  },
  {
   "cell_type": "code",
   "execution_count": null,
   "id": "2cbc91c7",
   "metadata": {},
   "outputs": [],
   "source": [
    "# other visualizations (plotting decision boundary?)"
   ]
  }
 ],
 "metadata": {
  "kernelspec": {
   "display_name": "ml_venv",
   "language": "python",
   "name": "ml_venv"
  },
  "language_info": {
   "codemirror_mode": {
    "name": "ipython",
    "version": 3
   },
   "file_extension": ".py",
   "mimetype": "text/x-python",
   "name": "python",
   "nbconvert_exporter": "python",
   "pygments_lexer": "ipython3",
   "version": "3.11.4"
  }
 },
 "nbformat": 4,
 "nbformat_minor": 5
}
